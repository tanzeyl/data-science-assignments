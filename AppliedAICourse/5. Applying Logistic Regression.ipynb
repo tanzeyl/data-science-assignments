{
 "cells": [
  {
   "cell_type": "code",
   "execution_count": 1,
   "id": "06521927",
   "metadata": {},
   "outputs": [],
   "source": [
    "import pandas as pd\n",
    "import matplotlib.pyplot as plt\n",
    "import seaborn as sns\n",
    "from sklearn.preprocessing import OrdinalEncoder\n",
    "from sklearn.impute import SimpleImputer\n",
    "from sklearn.preprocessing import StandardScaler\n",
    "from sklearn.linear_model import LogisticRegression\n",
    "from sklearn.model_selection import train_test_split\n",
    "from sklearn import metrics"
   ]
  },
  {
   "cell_type": "code",
   "execution_count": 2,
   "id": "5d42b9ce",
   "metadata": {},
   "outputs": [],
   "source": [
    "data = pd.read_csv(\"Customer Information.csv\")"
   ]
  },
  {
   "cell_type": "code",
   "execution_count": 3,
   "id": "85c11283",
   "metadata": {},
   "outputs": [
    {
     "data": {
      "text/html": [
       "<style type=\"text/css\">\n",
       "#T_ecee9_row0_col0, #T_ecee9_row0_col3, #T_ecee9_row0_col11, #T_ecee9_row1_col7, #T_ecee9_row1_col8, #T_ecee9_row1_col11, #T_ecee9_row2_col1, #T_ecee9_row2_col4, #T_ecee9_row2_col5, #T_ecee9_row2_col6, #T_ecee9_row3_col11, #T_ecee9_row4_col2, #T_ecee9_row4_col11 {\n",
       "  background-color: #004529;\n",
       "  color: #f1f1f1;\n",
       "}\n",
       "#T_ecee9_row0_col1 {\n",
       "  background-color: #88cd7f;\n",
       "  color: #000000;\n",
       "}\n",
       "#T_ecee9_row0_col2, #T_ecee9_row0_col4, #T_ecee9_row0_col5, #T_ecee9_row0_col6, #T_ecee9_row1_col1, #T_ecee9_row1_col4, #T_ecee9_row1_col5, #T_ecee9_row1_col6, #T_ecee9_row2_col3, #T_ecee9_row2_col7, #T_ecee9_row2_col8, #T_ecee9_row2_col11, #T_ecee9_row3_col0, #T_ecee9_row3_col4, #T_ecee9_row3_col5, #T_ecee9_row3_col6, #T_ecee9_row4_col4, #T_ecee9_row4_col5, #T_ecee9_row4_col6 {\n",
       "  background-color: #ffffe5;\n",
       "  color: #000000;\n",
       "}\n",
       "#T_ecee9_row0_col7 {\n",
       "  background-color: #d0ec9f;\n",
       "  color: #000000;\n",
       "}\n",
       "#T_ecee9_row0_col8 {\n",
       "  background-color: #97d385;\n",
       "  color: #000000;\n",
       "}\n",
       "#T_ecee9_row1_col0 {\n",
       "  background-color: #dcf1a5;\n",
       "  color: #000000;\n",
       "}\n",
       "#T_ecee9_row1_col2 {\n",
       "  background-color: #7cc87b;\n",
       "  color: #000000;\n",
       "}\n",
       "#T_ecee9_row1_col3 {\n",
       "  background-color: #066d39;\n",
       "  color: #f1f1f1;\n",
       "}\n",
       "#T_ecee9_row2_col0 {\n",
       "  background-color: #f6fcb8;\n",
       "  color: #000000;\n",
       "}\n",
       "#T_ecee9_row2_col2 {\n",
       "  background-color: #ceeb9e;\n",
       "  color: #000000;\n",
       "}\n",
       "#T_ecee9_row3_col1, #T_ecee9_row4_col1 {\n",
       "  background-color: #fcfed6;\n",
       "  color: #000000;\n",
       "}\n",
       "#T_ecee9_row3_col2 {\n",
       "  background-color: #edf8b1;\n",
       "  color: #000000;\n",
       "}\n",
       "#T_ecee9_row3_col3 {\n",
       "  background-color: #45ad5f;\n",
       "  color: #f1f1f1;\n",
       "}\n",
       "#T_ecee9_row3_col7 {\n",
       "  background-color: #278946;\n",
       "  color: #f1f1f1;\n",
       "}\n",
       "#T_ecee9_row3_col8 {\n",
       "  background-color: #f3fab6;\n",
       "  color: #000000;\n",
       "}\n",
       "#T_ecee9_row4_col0 {\n",
       "  background-color: #006837;\n",
       "  color: #f1f1f1;\n",
       "}\n",
       "#T_ecee9_row4_col3 {\n",
       "  background-color: #98d486;\n",
       "  color: #000000;\n",
       "}\n",
       "#T_ecee9_row4_col7 {\n",
       "  background-color: #00492b;\n",
       "  color: #f1f1f1;\n",
       "}\n",
       "#T_ecee9_row4_col8 {\n",
       "  background-color: #b3e091;\n",
       "  color: #000000;\n",
       "}\n",
       "</style>\n",
       "<table id=\"T_ecee9_\">\n",
       "  <thead>\n",
       "    <tr>\n",
       "      <th class=\"blank level0\" >&nbsp;</th>\n",
       "      <th class=\"col_heading level0 col0\" >id</th>\n",
       "      <th class=\"col_heading level0 col1\" >perc_premium_paid_by_cash_credit</th>\n",
       "      <th class=\"col_heading level0 col2\" >age_in_days</th>\n",
       "      <th class=\"col_heading level0 col3\" >Income</th>\n",
       "      <th class=\"col_heading level0 col4\" >Count_3-6_months_late</th>\n",
       "      <th class=\"col_heading level0 col5\" >Count_6-12_months_late</th>\n",
       "      <th class=\"col_heading level0 col6\" >Count_more_than_12_months_late</th>\n",
       "      <th class=\"col_heading level0 col7\" >application_underwriting_score</th>\n",
       "      <th class=\"col_heading level0 col8\" >no_of_premiums_paid</th>\n",
       "      <th class=\"col_heading level0 col9\" >sourcing_channel</th>\n",
       "      <th class=\"col_heading level0 col10\" >residence_area_type</th>\n",
       "      <th class=\"col_heading level0 col11\" >target</th>\n",
       "    </tr>\n",
       "  </thead>\n",
       "  <tbody>\n",
       "    <tr>\n",
       "      <th id=\"T_ecee9_level0_row0\" class=\"row_heading level0 row0\" >0</th>\n",
       "      <td id=\"T_ecee9_row0_col0\" class=\"data row0 col0\" >110936</td>\n",
       "      <td id=\"T_ecee9_row0_col1\" class=\"data row0 col1\" >0.429000</td>\n",
       "      <td id=\"T_ecee9_row0_col2\" class=\"data row0 col2\" >12058</td>\n",
       "      <td id=\"T_ecee9_row0_col3\" class=\"data row0 col3\" >355060</td>\n",
       "      <td id=\"T_ecee9_row0_col4\" class=\"data row0 col4\" >0.000000</td>\n",
       "      <td id=\"T_ecee9_row0_col5\" class=\"data row0 col5\" >0.000000</td>\n",
       "      <td id=\"T_ecee9_row0_col6\" class=\"data row0 col6\" >0.000000</td>\n",
       "      <td id=\"T_ecee9_row0_col7\" class=\"data row0 col7\" >99.020000</td>\n",
       "      <td id=\"T_ecee9_row0_col8\" class=\"data row0 col8\" >13</td>\n",
       "      <td id=\"T_ecee9_row0_col9\" class=\"data row0 col9\" >C</td>\n",
       "      <td id=\"T_ecee9_row0_col10\" class=\"data row0 col10\" >Urban</td>\n",
       "      <td id=\"T_ecee9_row0_col11\" class=\"data row0 col11\" >1</td>\n",
       "    </tr>\n",
       "    <tr>\n",
       "      <th id=\"T_ecee9_level0_row1\" class=\"row_heading level0 row1\" >1</th>\n",
       "      <td id=\"T_ecee9_row1_col0\" class=\"data row1 col0\" >41492</td>\n",
       "      <td id=\"T_ecee9_row1_col1\" class=\"data row1 col1\" >0.010000</td>\n",
       "      <td id=\"T_ecee9_row1_col2\" class=\"data row1 col2\" >21546</td>\n",
       "      <td id=\"T_ecee9_row1_col3\" class=\"data row1 col3\" >315150</td>\n",
       "      <td id=\"T_ecee9_row1_col4\" class=\"data row1 col4\" >0.000000</td>\n",
       "      <td id=\"T_ecee9_row1_col5\" class=\"data row1 col5\" >0.000000</td>\n",
       "      <td id=\"T_ecee9_row1_col6\" class=\"data row1 col6\" >0.000000</td>\n",
       "      <td id=\"T_ecee9_row1_col7\" class=\"data row1 col7\" >99.890000</td>\n",
       "      <td id=\"T_ecee9_row1_col8\" class=\"data row1 col8\" >21</td>\n",
       "      <td id=\"T_ecee9_row1_col9\" class=\"data row1 col9\" >A</td>\n",
       "      <td id=\"T_ecee9_row1_col10\" class=\"data row1 col10\" >Urban</td>\n",
       "      <td id=\"T_ecee9_row1_col11\" class=\"data row1 col11\" >1</td>\n",
       "    </tr>\n",
       "    <tr>\n",
       "      <th id=\"T_ecee9_level0_row2\" class=\"row_heading level0 row2\" >2</th>\n",
       "      <td id=\"T_ecee9_row2_col0\" class=\"data row2 col0\" >31300</td>\n",
       "      <td id=\"T_ecee9_row2_col1\" class=\"data row2 col1\" >0.917000</td>\n",
       "      <td id=\"T_ecee9_row2_col2\" class=\"data row2 col2\" >17531</td>\n",
       "      <td id=\"T_ecee9_row2_col3\" class=\"data row2 col3\" >84140</td>\n",
       "      <td id=\"T_ecee9_row2_col4\" class=\"data row2 col4\" >2.000000</td>\n",
       "      <td id=\"T_ecee9_row2_col5\" class=\"data row2 col5\" >3.000000</td>\n",
       "      <td id=\"T_ecee9_row2_col6\" class=\"data row2 col6\" >1.000000</td>\n",
       "      <td id=\"T_ecee9_row2_col7\" class=\"data row2 col7\" >98.690000</td>\n",
       "      <td id=\"T_ecee9_row2_col8\" class=\"data row2 col8\" >7</td>\n",
       "      <td id=\"T_ecee9_row2_col9\" class=\"data row2 col9\" >C</td>\n",
       "      <td id=\"T_ecee9_row2_col10\" class=\"data row2 col10\" >Rural</td>\n",
       "      <td id=\"T_ecee9_row2_col11\" class=\"data row2 col11\" >0</td>\n",
       "    </tr>\n",
       "    <tr>\n",
       "      <th id=\"T_ecee9_level0_row3\" class=\"row_heading level0 row3\" >3</th>\n",
       "      <td id=\"T_ecee9_row3_col0\" class=\"data row3 col0\" >19415</td>\n",
       "      <td id=\"T_ecee9_row3_col1\" class=\"data row3 col1\" >0.049000</td>\n",
       "      <td id=\"T_ecee9_row3_col2\" class=\"data row3 col2\" >15341</td>\n",
       "      <td id=\"T_ecee9_row3_col3\" class=\"data row3 col3\" >250510</td>\n",
       "      <td id=\"T_ecee9_row3_col4\" class=\"data row3 col4\" >0.000000</td>\n",
       "      <td id=\"T_ecee9_row3_col5\" class=\"data row3 col5\" >0.000000</td>\n",
       "      <td id=\"T_ecee9_row3_col6\" class=\"data row3 col6\" >0.000000</td>\n",
       "      <td id=\"T_ecee9_row3_col7\" class=\"data row3 col7\" >99.570000</td>\n",
       "      <td id=\"T_ecee9_row3_col8\" class=\"data row3 col8\" >9</td>\n",
       "      <td id=\"T_ecee9_row3_col9\" class=\"data row3 col9\" >A</td>\n",
       "      <td id=\"T_ecee9_row3_col10\" class=\"data row3 col10\" >Urban</td>\n",
       "      <td id=\"T_ecee9_row3_col11\" class=\"data row3 col11\" >1</td>\n",
       "    </tr>\n",
       "    <tr>\n",
       "      <th id=\"T_ecee9_level0_row4\" class=\"row_heading level0 row4\" >4</th>\n",
       "      <td id=\"T_ecee9_row4_col0\" class=\"data row4 col0\" >99379</td>\n",
       "      <td id=\"T_ecee9_row4_col1\" class=\"data row4 col1\" >0.052000</td>\n",
       "      <td id=\"T_ecee9_row4_col2\" class=\"data row4 col2\" >31400</td>\n",
       "      <td id=\"T_ecee9_row4_col3\" class=\"data row4 col3\" >198680</td>\n",
       "      <td id=\"T_ecee9_row4_col4\" class=\"data row4 col4\" >0.000000</td>\n",
       "      <td id=\"T_ecee9_row4_col5\" class=\"data row4 col5\" >0.000000</td>\n",
       "      <td id=\"T_ecee9_row4_col6\" class=\"data row4 col6\" >0.000000</td>\n",
       "      <td id=\"T_ecee9_row4_col7\" class=\"data row4 col7\" >99.870000</td>\n",
       "      <td id=\"T_ecee9_row4_col8\" class=\"data row4 col8\" >12</td>\n",
       "      <td id=\"T_ecee9_row4_col9\" class=\"data row4 col9\" >B</td>\n",
       "      <td id=\"T_ecee9_row4_col10\" class=\"data row4 col10\" >Urban</td>\n",
       "      <td id=\"T_ecee9_row4_col11\" class=\"data row4 col11\" >1</td>\n",
       "    </tr>\n",
       "  </tbody>\n",
       "</table>\n"
      ],
      "text/plain": [
       "<pandas.io.formats.style.Styler at 0x289ad0f2f70>"
      ]
     },
     "execution_count": 3,
     "metadata": {},
     "output_type": "execute_result"
    }
   ],
   "source": [
    "data.head().style.background_gradient(cmap = \"YlGn\")"
   ]
  },
  {
   "cell_type": "code",
   "execution_count": 4,
   "id": "41160bc0",
   "metadata": {},
   "outputs": [
    {
     "data": {
      "text/plain": [
       "(79853, 12)"
      ]
     },
     "execution_count": 4,
     "metadata": {},
     "output_type": "execute_result"
    }
   ],
   "source": [
    "data.shape"
   ]
  },
  {
   "cell_type": "code",
   "execution_count": 5,
   "id": "b071ab5d",
   "metadata": {},
   "outputs": [],
   "source": [
    "#Let's remove irrelevant columns\n",
    "data = data.drop([\"id\"], axis = 1)\n",
    "columns = data.columns"
   ]
  },
  {
   "cell_type": "code",
   "execution_count": 6,
   "id": "e3e11baa",
   "metadata": {},
   "outputs": [],
   "source": [
    "#Let's enocode columns\n",
    "enoder = OrdinalEncoder()\n",
    "data[[\"sourcing_channel\", \"residence_area_type\"]] = enoder.fit_transform(data[[\"sourcing_channel\", \"residence_area_type\"]])\n",
    "data.columns = columns"
   ]
  },
  {
   "cell_type": "code",
   "execution_count": 7,
   "id": "7c3929a6",
   "metadata": {},
   "outputs": [
    {
     "data": {
      "text/plain": [
       "perc_premium_paid_by_cash_credit       0\n",
       "age_in_days                            0\n",
       "Income                                 0\n",
       "Count_3-6_months_late                 97\n",
       "Count_6-12_months_late                97\n",
       "Count_more_than_12_months_late        97\n",
       "application_underwriting_score      2974\n",
       "no_of_premiums_paid                    0\n",
       "sourcing_channel                       0\n",
       "residence_area_type                    0\n",
       "target                                 0\n",
       "dtype: int64"
      ]
     },
     "execution_count": 7,
     "metadata": {},
     "output_type": "execute_result"
    }
   ],
   "source": [
    "#Let's treat missing values\n",
    "data.isnull().sum()"
   ]
  },
  {
   "cell_type": "code",
   "execution_count": 8,
   "id": "2b550fed",
   "metadata": {},
   "outputs": [
    {
     "data": {
      "text/plain": [
       "<AxesSubplot:>"
      ]
     },
     "execution_count": 8,
     "metadata": {},
     "output_type": "execute_result"
    },
    {
     "data": {
      "image/png": "[encoded data removed]",
      "text/plain": [
       "<Figure size 720x432 with 1 Axes>"
      ]
     },
     "metadata": {
      "needs_background": "light"
     },
     "output_type": "display_data"
    }
   ],
   "source": [
    "plt.figure(figsize = (10, 6))\n",
    "sns.heatmap(data.isna(), cbar = False, cmap = \"viridis\", yticklabels = False)"
   ]
  },
  {
   "cell_type": "code",
   "execution_count": 9,
   "id": "c8951cf6",
   "metadata": {},
   "outputs": [],
   "source": [
    "imputer = SimpleImputer(strategy = \"mean\")\n",
    "data = pd.DataFrame(imputer.fit_transform(data))\n",
    "data.columns = columns"
   ]
  },
  {
   "cell_type": "code",
   "execution_count": 10,
   "id": "e06021db",
   "metadata": {},
   "outputs": [],
   "source": [
    "#Let's standardize the columns\n",
    "target = data[\"target\"]\n",
    "data = data.drop(\"target\", axis = 1)\n",
    "scaler = StandardScaler()\n",
    "data = pd.DataFrame(scaler.fit_transform(data))\n",
    "data[\"target\"] = target\n",
    "data.columns = columns"
   ]
  },
  {
   "cell_type": "code",
   "execution_count": 11,
   "id": "f66feafa",
   "metadata": {},
   "outputs": [],
   "source": [
    "#Let's make the model\n",
    "x = data.drop(\"target\", axis = 1)\n",
    "y = data[\"target\"]\n",
    "x_train, x_test, y_train, y_test = train_test_split(x, y, test_size = 0.2)\n",
    "model = LogisticRegression()\n",
    "model.fit(x_train, y_train)\n",
    "predictions = model.predict(x_test)"
   ]
  },
  {
   "cell_type": "code",
   "execution_count": 12,
   "id": "91064718",
   "metadata": {},
   "outputs": [
    {
     "name": "stdout",
     "output_type": "stream",
     "text": [
      "0.9382631018721432\n"
     ]
    }
   ],
   "source": [
    "performance = metrics.accuracy_score(y_test, predictions)\n",
    "print(performance)"
   ]
  },
  {
   "cell_type": "code",
   "execution_count": 13,
   "id": "be4e199c",
   "metadata": {},
   "outputs": [
    {
     "data": {
      "image/png": "[encoded data removed]",
      "text/plain": [
       "<Figure size 1440x864 with 2 Axes>"
      ]
     },
     "metadata": {
      "needs_background": "light"
     },
     "output_type": "display_data"
    }
   ],
   "source": [
    "plt.figure(figsize = (20, 12))\n",
    "mat = metrics.confusion_matrix(y_test, predictions)\n",
    "sns.heatmap(mat.T, square = True, annot=True, fmt = \"d\")\n",
    "plt.xlabel(\"True labels\")\n",
    "plt.ylabel(\"Predicted labels\")\n",
    "plt.show()"
   ]
  },
  {
   "cell_type": "code",
   "execution_count": null,
   "id": "f34b3402",
   "metadata": {},
   "outputs": [],
   "source": []
  }
 ],
 "metadata": {
  "kernelspec": {
   "display_name": "Python 3 (ipykernel)",
   "language": "python",
   "name": "python3"
  },
  "language_info": {
   "codemirror_mode": {
    "name": "ipython",
    "version": 3
   },
   "file_extension": ".py",
   "mimetype": "text/x-python",
   "name": "python",
   "nbconvert_exporter": "python",
   "pygments_lexer": "ipython3",
   "version": "3.8.1"
  }
 },
 "nbformat": 4,
 "nbformat_minor": 5
}
